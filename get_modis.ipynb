{
 "cells": [
  {
   "cell_type": "code",
   "execution_count": null,
   "metadata": {},
   "outputs": [],
   "source": [
    "from glob import glob\n",
    "import os\n",
    "\n",
    "import numpy as np\n",
    "import numpy.ma as ma\n",
    "import matplotlib.pyplot as plt\n",
    "import geopandas as gpd\n",
    "import rioxarray as rxr\n",
    "import xarray as xr\n",
    "from rasterio.plot import plotting_extent\n",
    "import earthpy as et\n",
    "import earthpy.spatial as es\n",
    "import earthpy.plot as ep\n",
    "from shapely.geometry import box\n",
    "\n",
    "data = et.data.get_data('cold-springs-fire')\n",
    "os.chdir(os.path.join(et.io.HOME, 'earth-analytics', 'data'))"
   ]
  },
  {
   "cell_type": "code",
   "execution_count": null,
   "metadata": {},
   "outputs": [],
   "source": [
    "# Create list of MODIS rasters for surface reflectance\n",
    "modis_bands_pre_list = glob(os.path.join(\"cold-springs-fire\",\n",
    "                                         \"modis\",\n",
    "                                         \"reflectance\",\n",
    "                                         \"07_july_2016\",\n",
    "                                         \"crop\",\n",
    "                                         \"*_sur_refl_b*.tif\"))\n",
    "\n",
    "# Sort the list of bands\n",
    "modis_bands_pre_list.sort()\n",
    "modis_bands_pre_list"
   ]
  },
  {
   "cell_type": "code",
   "execution_count": null,
   "metadata": {},
   "outputs": [],
   "source": [
    "def combine_tifs(tif_list):\n",
    "    \"\"\"A function that combines a list of tifs in the same CRS\n",
    "    and of the same extent into an xarray object\n",
    "\n",
    "    Parameters\n",
    "    ----------\n",
    "    tif_list : list\n",
    "        A list of paths to the tif files that you wish to combine.\n",
    "\n",
    "    Returns\n",
    "    -------\n",
    "    An xarray object with all of the tif files in the listmerged into \n",
    "    a single object.\n",
    "\n",
    "    \"\"\"\n",
    "\n",
    "    out_xr = []\n",
    "    for i, tif_path in enumerate(tif_list):\n",
    "        out_xr.append(rxr.open_rasterio(tif_path, masked=True).squeeze())\n",
    "        out_xr[i][\"band\"] = i+1\n",
    "\n",
    "    return xr.concat(out_xr, dim=\"band\")"
   ]
  },
  {
   "cell_type": "code",
   "execution_count": null,
   "metadata": {},
   "outputs": [],
   "source": [
    "# Open file list with function\n",
    "\n",
    "modis_bands_pre = combine_tifs(modis_bands_pre_list)"
   ]
  },
  {
   "cell_type": "code",
   "execution_count": null,
   "metadata": {},
   "outputs": [],
   "source": [
    "# Plot MODIS RGB\n",
    "\n",
    "ep.plot_rgb(modis_bands_pre.values,\n",
    "            rgb=[0, 3, 2],\n",
    "            title=\"Surface Reflectance \\n MODIS RGB Bands\")\n",
    "plt.show()"
   ]
  },
  {
   "cell_type": "code",
   "execution_count": null,
   "metadata": {},
   "outputs": [],
   "source": [
    "# Identify minimum and maximum values of band 1 (red)\n",
    "print(modis_bands_pre[1].min(), modis_bands_pre[1].max())"
   ]
  },
  {
   "cell_type": "code",
   "execution_count": null,
   "metadata": {},
   "outputs": [],
   "source": [
    "# Open fire boundary\n",
    "fire_boundary_path = os.path.join(\"cold-springs-fire\",\n",
    "                                  \"vector_layers\",\n",
    "                                  \"fire-boundary-geomac\",\n",
    "                                  \"co_cold_springs_20160711_2200_dd83.shp\")\n",
    "fire_boundary = gpd.read_file(fire_boundary_path)\n",
    "fire_bound_sin = fire_boundary.to_crs(modis_bands_pre.rio.crs)\n",
    "\n",
    "fire_bound_box = [box(*fire_bound_sin.total_bounds)]\n",
    "\n",
    "\n",
    "# MODIS Clipped to Geometry\n",
    "modis_clip_geometry = modis_bands_pre.rio.clip(fire_bound_sin.geometry,\n",
    "                                               all_touched=True,\n",
    "                                               from_disk=True)\n",
    "\n",
    "# MODIS Clipped to Bounds\n",
    "modis_clip = modis_bands_pre.rio.clip(fire_bound_box,\n",
    "                                      all_touched=True,\n",
    "                                      from_disk=True)\n",
    "\n",
    "extent = plotting_extent(modis_clip[0].values, modis_clip.rio.transform())\n",
    "\n",
    "fig, (ax1, ax2) = plt.subplots(1, 2, figsize=(12, 15))\n",
    "\n",
    "# Plotting Geometry Clip\n",
    "ep.plot_rgb(modis_clip.values,\n",
    "            rgb=[0, 3, 2],\n",
    "            ax=ax1,\n",
    "            extent=extent,\n",
    "            title='MODIS Clipped to Bounds')\n",
    "\n",
    "fire_bound_sin.boundary.plot(ax=ax1)\n",
    "\n",
    "# Plotting Bounds Clip\n",
    "ep.plot_rgb(modis_clip_geometry.values,\n",
    "            rgb=[0, 3, 2],\n",
    "            ax=ax2,\n",
    "            extent=extent,\n",
    "            title='MODIS Clipped to Geometry')\n",
    "\n",
    "fire_bound_sin.boundary.plot(ax=ax2)\n",
    "\n",
    "plt.show()"
   ]
  },
  {
   "cell_type": "code",
   "execution_count": null,
   "metadata": {},
   "outputs": [],
   "source": [
    "# Create a list of titles\n",
    "titles = [\"Red Band\", \"Near Infrared (NIR) Band\", \"Blue/Green Band\", \"Green Band\",\n",
    "          \"Near Infrared (NIR) Band\", \"Mid-infrared Band\", \"Mid-infrared Band\"]\n",
    "\n",
    "# Plot all bands individually\n",
    "ep.plot_bands(modis_clip,\n",
    "              cols=3,\n",
    "              title=titles,\n",
    "              figsize=(10, 6))\n",
    "plt.show()"
   ]
  },
  {
   "cell_type": "code",
   "execution_count": null,
   "metadata": {},
   "outputs": [],
   "source": [
    "# Create a colors and titles list to use in the histogram\n",
    "colors = ['r', 'k', 'b', 'g', 'k', 'y', 'y']\n",
    "titles = [\"Red Band\", \"Near Infrared (NIR) Band\", \"Blue/Green Band\",\n",
    "          \"Green Band\", \"Near Infrared (NIR) Band\",\n",
    "          \"Mid-infrared Band\", \"Mid-infrared Band\"]\n",
    "\n",
    "# Plot histogram\n",
    "ep.hist(modis_clip.values,\n",
    "        colors=colors,\n",
    "        title=titles,\n",
    "        cols=2)\n",
    "plt.show()"
   ]
  },
  {
   "cell_type": "code",
   "execution_count": null,
   "metadata": {},
   "outputs": [],
   "source": [
    "# Scale values of MODIS imagery stack\n",
    "modis_bands_pre_scaled = modis_clip * 0.0001"
   ]
  },
  {
   "cell_type": "code",
   "execution_count": null,
   "metadata": {},
   "outputs": [],
   "source": [
    "# Identify minimum and maximum values of scaled band 1 (red)\n",
    "print(modis_bands_pre_scaled[1].min(), modis_bands_pre_scaled[1].max())"
   ]
  },
  {
   "cell_type": "code",
   "execution_count": null,
   "metadata": {},
   "outputs": [],
   "source": [
    "# Create a colors and titles list to use in the histogram\n",
    "colors = ['r', 'k', 'b', 'g', 'k', 'y', 'y']\n",
    "titles = [\"Red Band\", \"Near Infrared (NIR) Band\", \"Blue/Green Band\", \"Green Band\",\n",
    "          \"Near Infrared (NIR) Band\", \"Mid-infrared Band\", \"Mid-infrared Band\"]\n",
    "\n",
    "# Plot histogram\n",
    "ep.hist(modis_bands_pre_scaled.values,\n",
    "        colors=colors,\n",
    "        title=titles,\n",
    "        cols=2)\n",
    "plt.show()"
   ]
  },
  {
   "cell_type": "code",
   "execution_count": null,
   "metadata": {},
   "outputs": [],
   "source": []
  }
 ],
 "metadata": {
  "language_info": {
   "name": "python"
  }
 },
 "nbformat": 4,
 "nbformat_minor": 2
}
