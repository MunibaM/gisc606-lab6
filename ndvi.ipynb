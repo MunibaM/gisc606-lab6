{
 "cells": [
  {
   "cell_type": "code",
   "execution_count": null,
   "metadata": {},
   "outputs": [],
   "source": [
    "import os\n",
    "\n",
    "import matplotlib.pyplot as plt\n",
    "import numpy as np\n",
    "import rioxarray as rxr\n",
    "import geopandas as gpd\n",
    "import earthpy as et\n",
    "import earthpy.spatial as es\n",
    "import earthpy.plot as ep\n",
    "\n",
    "# Download data and set working directory\n",
    "data = et.data.get_data('cold-springs-fire')\n",
    "os.chdir(os.path.join(et.io.HOME, 'earth-analytics', 'data'))"
   ]
  },
  {
   "cell_type": "code",
   "execution_count": null,
   "metadata": {},
   "outputs": [],
   "source": [
    "naip_data_path = os.path.join(\"cold-springs-fire\",\n",
    "                              \"naip\",\n",
    "                              \"m_3910505_nw_13_1_20150919\",\n",
    "                              \"crop\",\n",
    "                              \"m_3910505_nw_13_1_20150919_crop.tif\")\n",
    "\n",
    "naip_data = rxr.open_rasterio(naip_data_path)\n",
    "\n",
    "# View shape of the data\n",
    "naip_data.shape"
   ]
  },
  {
   "cell_type": "code",
   "execution_count": null,
   "metadata": {},
   "outputs": [],
   "source": [
    "naip_ndvi = es.normalized_diff(naip_data[3], naip_data[0])"
   ]
  },
  {
   "cell_type": "code",
   "execution_count": null,
   "metadata": {},
   "outputs": [],
   "source": [
    "ep.plot_bands(naip_ndvi,\n",
    "              cmap='PiYG',\n",
    "              scale=False,\n",
    "              vmin=-1, vmax=1,\n",
    "              title=\"NAIP Derived NDVI\\n 19 September 2015 - Cold Springs Fire, Colorado\")\n",
    "plt.show()"
   ]
  },
  {
   "cell_type": "code",
   "execution_count": null,
   "metadata": {},
   "outputs": [],
   "source": [
    "ep.hist(naip_ndvi.values,\n",
    "        figsize=(12, 6),\n",
    "        title=[\"NDVI: Distribution of pixels\\n NAIP 2015 Cold Springs fire site\"])\n",
    "\n",
    "plt.show()"
   ]
  },
  {
   "cell_type": "code",
   "execution_count": null,
   "metadata": {},
   "outputs": [],
   "source": [
    "type(naip_ndvi), naip_ndvi.dtype"
   ]
  },
  {
   "cell_type": "code",
   "execution_count": null,
   "metadata": {},
   "outputs": [],
   "source": [
    "naip_ndvi_outpath = os.path.join(\"cold-springs-fire\",\n",
    "                                 \"outputs\",\n",
    "                                 \"naip_ndvi.tif\")\n",
    "\n",
    "# Write your the ndvi raster object\n",
    "naip_ndvi.rio.to_raster(naip_ndvi_outpath)"
   ]
  }
 ],
 "metadata": {
  "language_info": {
   "name": "python"
  }
 },
 "nbformat": 4,
 "nbformat_minor": 2
}
